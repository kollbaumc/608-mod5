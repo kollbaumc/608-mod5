{
 "cells": [
  {
   "cell_type": "code",
   "execution_count": null,
   "id": "07c60efb",
   "metadata": {},
   "outputs": [],
   "source": [
    "import pandas as pd\n",
    "\n",
    "#Creating a dictionary of zip codes\n",
    "zips = pd.Series({'Boston': '02215', 'Miami': '3310'})\n",
    "\n",
    "zips\n",
    "\n",
    "print(zips)\n",
    "print('Chris Kollbaum')\n",
    "\n",
    "#Checking if the zips are valid 5 digits\n",
    "zips.str.match(r'd{5}')\n",
    "\n"
   ]
  },
  {
   "cell_type": "code",
   "execution_count": null,
   "id": "7aa75030",
   "metadata": {},
   "outputs": [],
   "source": [
    "#Creating an array of cities\n",
    "cities = pd.Series(['Boston, MA 02215', 'Miami, FL 33101'])\n",
    "\n",
    "print(cities)\n",
    "print('Chris Kollbaum')\n",
    "\n",
    "#Checking if each entry includes letters\n",
    "print(cities.str.contains(r' [A-Z]{2}'))\n",
    "\n",
    "#Checking to see if the defined pattern is matched\n",
    "cities.str.match(r' [A-Z]{2}')"
   ]
  },
  {
   "cell_type": "code",
   "execution_count": null,
   "id": "d4c4a140",
   "metadata": {},
   "outputs": [],
   "source": [
    "#Creating a dataframe\n",
    "contacts = [['Mike Green', 'demo1@deitel.com', '5555555555'],['Sue Brown', 'demo2@deitel.com', '5555551234']]\n",
    "\n",
    "contactsdf = pd.DataFrame(contacts, columns=['Name', 'Email', 'Phone'])\n",
    "\n",
    "print(contactsdf)\n",
    "\n",
    "#Reformatting the phone numbers to include dashes\n",
    "import re\n",
    "\n",
    "def get_formatted_phone(value):\n",
    "    result = re.fullmatch(r'(\\d{3})(\\d{3})(\\d{4})', value)\n",
    "    return '-'.join(result.groups()) if result else value\n",
    "\n",
    "\n",
    "\n",
    "\n",
    "formatted_phone = contactsdf['Phone'].map(get_formatted_phone)\n",
    "\n",
    "print(formatted_phone)\n",
    "\n",
    "contactsdf['Phone'] = formatted_phone\n",
    "\n",
    "contactsdf\n",
    "\n",
    "print(contactsdf)\n",
    "\n",
    "print('Chris Kollbaum')\n"
   ]
  }
 ],
 "metadata": {
  "kernelspec": {
   "display_name": "Python 3 (ipykernel)",
   "language": "python",
   "name": "python3"
  },
  "language_info": {
   "codemirror_mode": {
    "name": "ipython",
    "version": 3
   },
   "file_extension": ".py",
   "mimetype": "text/x-python",
   "name": "python",
   "nbconvert_exporter": "python",
   "pygments_lexer": "ipython3",
   "version": "3.9.12"
  }
 },
 "nbformat": 4,
 "nbformat_minor": 5
}
